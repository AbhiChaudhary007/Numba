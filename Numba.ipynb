{
 "cells": [
  {
   "cell_type": "code",
   "execution_count": 1,
   "metadata": {
    "ExecuteTime": {
     "end_time": "2021-07-08T05:16:27.195142Z",
     "start_time": "2021-07-08T05:16:09.649945Z"
    }
   },
   "outputs": [
    {
     "name": "stdout",
     "output_type": "stream",
     "text": [
      "Requirement already satisfied: numba in d:\\python\\anaconda\\lib\\site-packages (0.50.1)\n",
      "Requirement already satisfied: llvmlite<0.34,>=0.33.0.dev0 in d:\\python\\anaconda\\lib\\site-packages (from numba) (0.33.0+1.g022ab0f)\n",
      "Requirement already satisfied: numpy>=1.15 in d:\\python\\anaconda\\lib\\site-packages (from numba) (1.20.3)\n",
      "Requirement already satisfied: setuptools in c:\\users\\rdxabhi\\appdata\\roaming\\python\\python38\\site-packages (from numba) (54.2.0)\n"
     ]
    }
   ],
   "source": [
    "!pip install numba"
   ]
  },
  {
   "cell_type": "code",
   "execution_count": 11,
   "metadata": {
    "ExecuteTime": {
     "end_time": "2021-07-08T05:27:37.997265Z",
     "start_time": "2021-07-08T05:27:37.987548Z"
    }
   },
   "outputs": [],
   "source": [
    "from numba import jit,njit,vectorize\n",
    "import numpy as np\n",
    "import time"
   ]
  },
  {
   "cell_type": "code",
   "execution_count": 17,
   "metadata": {
    "ExecuteTime": {
     "end_time": "2021-07-08T05:28:58.981266Z",
     "start_time": "2021-07-08T05:28:58.965214Z"
    }
   },
   "outputs": [
    {
     "name": "stdout",
     "output_type": "stream",
     "text": [
      "8.999999999442107\n",
      "Compilation_time:0.0\n"
     ]
    }
   ],
   "source": [
    "def fast(a):\n",
    "    trace = 0.0\n",
    "    for i in range(a.shape[0]):\n",
    "        trace += np.tanh(a[i,i])\n",
    "    return trace\n",
    "\n",
    "x = np.arange(100).reshape(10,10)\n",
    "start_time = time.time()\n",
    "print(fast(x))\n",
    "end_time = time.time()\n",
    "print(f'Compilation_time:{end_time-start_time}')"
   ]
  },
  {
   "cell_type": "code",
   "execution_count": 9,
   "metadata": {
    "ExecuteTime": {
     "end_time": "2021-07-08T05:26:36.655298Z",
     "start_time": "2021-07-08T05:26:36.529116Z"
    }
   },
   "outputs": [
    {
     "name": "stdout",
     "output_type": "stream",
     "text": [
      "Compilation_time:0.11818623542785645\n"
     ]
    }
   ],
   "source": [
    "@jit(nopython = True)\n",
    "def fast(a):\n",
    "    trace = 0.0\n",
    "    for i in range(a.shape[0]):\n",
    "        trace += np.tanh(a[i,i])\n",
    "    return trace\n",
    "\n",
    "x = np.arange(100).reshape(10,10)\n",
    "start_time = time.time()\n",
    "fast(x)\n",
    "end_time = time.time()\n",
    "print(f'Compilation_time:{end_time-start_time}')"
   ]
  },
  {
   "cell_type": "code",
   "execution_count": 15,
   "metadata": {
    "ExecuteTime": {
     "end_time": "2021-07-08T05:28:26.654369Z",
     "start_time": "2021-07-08T05:28:26.444988Z"
    }
   },
   "outputs": [
    {
     "name": "stdout",
     "output_type": "stream",
     "text": [
      "Compilation_time:0.19738197326660156\n"
     ]
    }
   ],
   "source": [
    "@njit\n",
    "def fast(a):\n",
    "    trace = 0.0\n",
    "    for i in range(a.shape[0]):\n",
    "        trace += np.tanh(a[i,i])\n",
    "    return trace\n",
    "\n",
    "x = np.arange(100).reshape(10,10)\n",
    "start_time = time.time()\n",
    "fast(x)\n",
    "end_time = time.time()\n",
    "print(f'Compilation_time:{end_time-start_time}')"
   ]
  },
  {
   "cell_type": "code",
   "execution_count": null,
   "metadata": {},
   "outputs": [],
   "source": []
  }
 ],
 "metadata": {
  "kernelspec": {
   "display_name": "Python 3",
   "language": "python",
   "name": "python3"
  },
  "language_info": {
   "codemirror_mode": {
    "name": "ipython",
    "version": 3
   },
   "file_extension": ".py",
   "mimetype": "text/x-python",
   "name": "python",
   "nbconvert_exporter": "python",
   "pygments_lexer": "ipython3",
   "version": "3.8.3"
  }
 },
 "nbformat": 4,
 "nbformat_minor": 4
}
